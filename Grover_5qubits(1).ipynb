{
 "cells": [
  {
   "cell_type": "markdown",
   "metadata": {},
   "source": [
    "Implementation of Grover's algorithm on a 5-qubits space with the V-Oracle model"
   ]
  },
  {
   "cell_type": "markdown",
   "metadata": {},
   "source": [
    "Importation of required packages"
   ]
  },
  {
   "cell_type": "code",
   "execution_count": null,
   "metadata": {},
   "outputs": [],
   "source": [
    "from ibm_quantum_widgets import CircuitComposer\n",
    "from qiskit import QuantumRegister, ClassicalRegister, QuantumCircuit\n",
    "from numpy import pi\n",
    "from qiskit import IBMQ, Aer, assemble, transpile\n",
    "from qiskit.visualization import plot_histogram"
   ]
  },
  {
   "cell_type": "markdown",
   "metadata": {},
   "source": [
    "Definition of my registers"
   ]
  },
  {
   "cell_type": "code",
   "execution_count": null,
   "metadata": {},
   "outputs": [],
   "source": [
    "qreg_q = QuantumRegister(8, 'q')\n",
    "creg_c = ClassicalRegister(5, 'c')\n",
    "circuit = QuantumCircuit(qreg_q, creg_c)"
   ]
  },
  {
   "cell_type": "markdown",
   "metadata": {},
   "source": [
    "Initialisation of my states"
   ]
  },
  {
   "cell_type": "code",
   "execution_count": null,
   "metadata": {},
   "outputs": [],
   "source": [
    "circuit.h(qreg_q[0])\n",
    "circuit.h(qreg_q[1])\n",
    "circuit.h(qreg_q[2])\n",
    "circuit.h(qreg_q[3])\n",
    "circuit.h(qreg_q[4])"
   ]
  },
  {
   "cell_type": "markdown",
   "metadata": {},
   "source": [
    "Iteration 1 "
   ]
  },
  {
   "cell_type": "markdown",
   "metadata": {},
   "source": [
    "the V_Oracle model"
   ]
  },
  {
   "cell_type": "code",
   "execution_count": null,
   "metadata": {},
   "outputs": [],
   "source": [
    "circuit.ccx(qreg_q[0], qreg_q[1], qreg_q[5])\n",
    "circuit.ccx(qreg_q[2], qreg_q[3], qreg_q[6])\n",
    "circuit.ccx(qreg_q[5], qreg_q[6], qreg_q[7])\n",
    "circuit.cz(qreg_q[7], qreg_q[4])\n",
    "circuit.ccx(qreg_q[5], qreg_q[6], qreg_q[7])\n",
    "circuit.ccx(qreg_q[2], qreg_q[3], qreg_q[6])\n",
    "circuit.ccx(qreg_q[0], qreg_q[1], qreg_q[5])"
   ]
  },
  {
   "cell_type": "markdown",
   "metadata": {},
   "source": [
    "Quantum barrier"
   ]
  },
  {
   "cell_type": "code",
   "execution_count": null,
   "metadata": {},
   "outputs": [],
   "source": [
    "circuit.barrier(qreg_q[0], qreg_q[1], qreg_q[2], qreg_q[3], qreg_q[4], qreg_q[5], qreg_q[6])"
   ]
  },
  {
   "cell_type": "markdown",
   "metadata": {},
   "source": [
    "The Diffuser\n"
   ]
  },
  {
   "cell_type": "code",
   "execution_count": null,
   "metadata": {},
   "outputs": [],
   "source": [
    "circuit.h(qreg_q[0])\n",
    "circuit.h(qreg_q[1])\n",
    "circuit.h(qreg_q[2])\n",
    "circuit.h(qreg_q[3])\n",
    "circuit.h(qreg_q[4])\n",
    "circuit.x(qreg_q[0])\n",
    "circuit.x(qreg_q[1])\n",
    "circuit.x(qreg_q[2])\n",
    "circuit.x(qreg_q[3])\n",
    "circuit.x(qreg_q[4])\n",
    "circuit.ccx(qreg_q[0], qreg_q[1], qreg_q[5])\n",
    "circuit.ccx(qreg_q[2], qreg_q[3], qreg_q[6])\n",
    "circuit.ccx(qreg_q[5], qreg_q[6], qreg_q[7])\n",
    "circuit.cz(qreg_q[7], qreg_q[4])\n",
    "circuit.ccx(qreg_q[5], qreg_q[6], qreg_q[7])\n",
    "circuit.ccx(qreg_q[2], qreg_q[3], qreg_q[6])\n",
    "circuit.ccx(qreg_q[0], qreg_q[1], qreg_q[5])\n",
    "circuit.x(qreg_q[0])\n",
    "circuit.x(qreg_q[1])\n",
    "circuit.x(qreg_q[2])\n",
    "circuit.x(qreg_q[3])\n",
    "circuit.x(qreg_q[4])\n",
    "circuit.h(qreg_q[0])\n",
    "circuit.h(qreg_q[1])\n",
    "circuit.h(qreg_q[2])\n",
    "circuit.h(qreg_q[3])\n",
    "circuit.h(qreg_q[4])"
   ]
  },
  {
   "cell_type": "markdown",
   "metadata": {},
   "source": [
    "Quantum barrier"
   ]
  },
  {
   "cell_type": "code",
   "execution_count": null,
   "metadata": {},
   "outputs": [],
   "source": [
    "circuit.barrier(qreg_q[0], qreg_q[1], qreg_q[2], qreg_q[3], qreg_q[4], qreg_q[5], qreg_q[6])\n",
    "circuit.barrier(qreg_q[0], qreg_q[1], qreg_q[2], qreg_q[3], qreg_q[4], qreg_q[5], qreg_q[6])"
   ]
  },
  {
   "cell_type": "markdown",
   "metadata": {},
   "source": [
    "Iteration 2"
   ]
  },
  {
   "cell_type": "code",
   "execution_count": null,
   "metadata": {},
   "outputs": [],
   "source": [
    "# oracle iteration 2\n",
    "circuit.ccx(qreg_q[0], qreg_q[1], qreg_q[5])\n",
    "circuit.ccx(qreg_q[2], qreg_q[3], qreg_q[6])\n",
    "circuit.ccx(qreg_q[5], qreg_q[6], qreg_q[7])\n",
    "circuit.cz(qreg_q[7], qreg_q[4])\n",
    "circuit.ccx(qreg_q[5], qreg_q[6], qreg_q[7])\n",
    "circuit.ccx(qreg_q[2], qreg_q[3], qreg_q[6])\n",
    "circuit.ccx(qreg_q[0], qreg_q[1], qreg_q[5])\n",
    "# barier\n",
    "circuit.barrier(qreg_q[0], qreg_q[1], qreg_q[2], qreg_q[3], qreg_q[4], qreg_q[5], qreg_q[6])\n",
    "# diffuser iteration 2\n",
    "circuit.h(qreg_q[0])\n",
    "circuit.h(qreg_q[1])\n",
    "circuit.h(qreg_q[2])\n",
    "circuit.h(qreg_q[3])\n",
    "circuit.h(qreg_q[4])\n",
    "circuit.x(qreg_q[0])\n",
    "circuit.x(qreg_q[1])\n",
    "circuit.x(qreg_q[2])\n",
    "circuit.x(qreg_q[3])\n",
    "circuit.x(qreg_q[4])\n",
    "circuit.ccx(qreg_q[0], qreg_q[1], qreg_q[5])\n",
    "circuit.ccx(qreg_q[2], qreg_q[3], qreg_q[6])\n",
    "circuit.ccx(qreg_q[5], qreg_q[6], qreg_q[7])\n",
    "circuit.cz(qreg_q[7], qreg_q[4])\n",
    "circuit.ccx(qreg_q[5], qreg_q[6], qreg_q[7])\n",
    "circuit.ccx(qreg_q[2], qreg_q[3], qreg_q[6])\n",
    "circuit.ccx(qreg_q[0], qreg_q[1], qreg_q[5])\n",
    "circuit.x(qreg_q[0])\n",
    "circuit.x(qreg_q[1])\n",
    "circuit.x(qreg_q[2])\n",
    "circuit.x(qreg_q[3])\n",
    "circuit.x(qreg_q[4])\n",
    "circuit.h(qreg_q[0])\n",
    "circuit.h(qreg_q[1])\n",
    "circuit.h(qreg_q[2])\n",
    "circuit.h(qreg_q[3])\n",
    "circuit.h(qreg_q[4])\n",
    "#barier *2\n",
    "circuit.barrier(qreg_q[0], qreg_q[1], qreg_q[2], qreg_q[3], qreg_q[4], qreg_q[5], qreg_q[6])\n",
    "circuit.barrier(qreg_q[0], qreg_q[1], qreg_q[2], qreg_q[3], qreg_q[4], qreg_q[5], qreg_q[6])"
   ]
  },
  {
   "cell_type": "markdown",
   "metadata": {},
   "source": [
    "Iteration 3"
   ]
  },
  {
   "cell_type": "code",
   "execution_count": null,
   "metadata": {},
   "outputs": [],
   "source": [
    "# oracle iteration 3\n",
    "circuit.ccx(qreg_q[0], qreg_q[1], qreg_q[5])\n",
    "circuit.ccx(qreg_q[2], qreg_q[3], qreg_q[6])\n",
    "circuit.ccx(qreg_q[5], qreg_q[6], qreg_q[7])\n",
    "circuit.cz(qreg_q[7], qreg_q[4])\n",
    "circuit.ccx(qreg_q[5], qreg_q[6], qreg_q[7])\n",
    "circuit.ccx(qreg_q[2], qreg_q[3], qreg_q[6])\n",
    "circuit.ccx(qreg_q[0], qreg_q[1], qreg_q[5])\n",
    "# barier\n",
    "circuit.barrier(qreg_q[0], qreg_q[1], qreg_q[2], qreg_q[3], qreg_q[4], qreg_q[5], qreg_q[6])\n",
    "# diffuser iteration 3\n",
    "circuit.h(qreg_q[0])\n",
    "circuit.h(qreg_q[1])\n",
    "circuit.h(qreg_q[2])\n",
    "circuit.h(qreg_q[3])\n",
    "circuit.h(qreg_q[4])\n",
    "circuit.x(qreg_q[0])\n",
    "circuit.x(qreg_q[1])\n",
    "circuit.x(qreg_q[2])\n",
    "circuit.x(qreg_q[3])\n",
    "circuit.x(qreg_q[4])\n",
    "circuit.ccx(qreg_q[0], qreg_q[1], qreg_q[5])\n",
    "circuit.ccx(qreg_q[2], qreg_q[3], qreg_q[6])\n",
    "circuit.ccx(qreg_q[5], qreg_q[6], qreg_q[7])\n",
    "circuit.cz(qreg_q[7], qreg_q[4])\n",
    "circuit.ccx(qreg_q[5], qreg_q[6], qreg_q[7])\n",
    "circuit.ccx(qreg_q[2], qreg_q[3], qreg_q[6])\n",
    "circuit.ccx(qreg_q[0], qreg_q[1], qreg_q[5])\n",
    "circuit.x(qreg_q[0])\n",
    "circuit.x(qreg_q[1])\n",
    "circuit.x(qreg_q[2])\n",
    "circuit.x(qreg_q[3])\n",
    "circuit.x(qreg_q[4])\n",
    "circuit.h(qreg_q[0])\n",
    "circuit.h(qreg_q[1])\n",
    "circuit.h(qreg_q[2])\n",
    "circuit.h(qreg_q[3])\n",
    "circuit.h(qreg_q[4])\n",
    "#barier *2\n",
    "circuit.barrier(qreg_q[0], qreg_q[1], qreg_q[2], qreg_q[3], qreg_q[4], qreg_q[5], qreg_q[6])\n",
    "circuit.barrier(qreg_q[0], qreg_q[1], qreg_q[2], qreg_q[3], qreg_q[4], qreg_q[5], qreg_q[6])"
   ]
  },
  {
   "cell_type": "markdown",
   "metadata": {},
   "source": [
    "Iteration 4"
   ]
  },
  {
   "cell_type": "code",
   "execution_count": null,
   "metadata": {},
   "outputs": [],
   "source": [
    "# oracle iteration 4\n",
    "circuit.ccx(qreg_q[0], qreg_q[1], qreg_q[5])\n",
    "circuit.ccx(qreg_q[2], qreg_q[3], qreg_q[6])\n",
    "circuit.ccx(qreg_q[5], qreg_q[6], qreg_q[7])\n",
    "circuit.cz(qreg_q[7], qreg_q[4])\n",
    "circuit.ccx(qreg_q[5], qreg_q[6], qreg_q[7])\n",
    "circuit.ccx(qreg_q[2], qreg_q[3], qreg_q[6])\n",
    "circuit.ccx(qreg_q[0], qreg_q[1], qreg_q[5])\n",
    "# barier\n",
    "circuit.barrier(qreg_q[0], qreg_q[1], qreg_q[2], qreg_q[3], qreg_q[4], qreg_q[5], qreg_q[6])\n",
    "# diffuser iteration 4\n",
    "circuit.h(qreg_q[0])\n",
    "circuit.h(qreg_q[1])\n",
    "circuit.h(qreg_q[2])\n",
    "circuit.h(qreg_q[3])\n",
    "circuit.h(qreg_q[4])\n",
    "circuit.x(qreg_q[0])\n",
    "circuit.x(qreg_q[1])\n",
    "circuit.x(qreg_q[2])\n",
    "circuit.x(qreg_q[3])\n",
    "circuit.x(qreg_q[4])\n",
    "circuit.ccx(qreg_q[0], qreg_q[1], qreg_q[5])\n",
    "circuit.ccx(qreg_q[2], qreg_q[3], qreg_q[6])\n",
    "circuit.ccx(qreg_q[5], qreg_q[6], qreg_q[7])\n",
    "circuit.cz(qreg_q[7], qreg_q[4])\n",
    "circuit.ccx(qreg_q[5], qreg_q[6], qreg_q[7])\n",
    "circuit.ccx(qreg_q[2], qreg_q[3], qreg_q[6])\n",
    "circuit.ccx(qreg_q[0], qreg_q[1], qreg_q[5])\n",
    "circuit.x(qreg_q[0])\n",
    "circuit.x(qreg_q[1])\n",
    "circuit.x(qreg_q[2])\n",
    "circuit.x(qreg_q[3])\n",
    "circuit.x(qreg_q[4])\n",
    "circuit.h(qreg_q[0])\n",
    "circuit.h(qreg_q[1])\n",
    "circuit.h(qreg_q[2])\n",
    "circuit.h(qreg_q[3])\n",
    "circuit.h(qreg_q[4])\n",
    "#barier *2\n",
    "circuit.barrier(qreg_q[0], qreg_q[1], qreg_q[2], qreg_q[3], qreg_q[4], qreg_q[5], qreg_q[6])\n",
    "circuit.barrier(qreg_q[0], qreg_q[1], qreg_q[2], qreg_q[3], qreg_q[4], qreg_q[5], qreg_q[6])\n"
   ]
  },
  {
   "cell_type": "markdown",
   "metadata": {},
   "source": [
    "Measurements \n"
   ]
  },
  {
   "cell_type": "code",
   "execution_count": null,
   "metadata": {},
   "outputs": [],
   "source": [
    "circuit.measure(qreg_q[0], creg_c[0])\n",
    "circuit.measure(qreg_q[1], creg_c[1])\n",
    "circuit.measure(qreg_q[2], creg_c[2])\n",
    "circuit.measure(qreg_q[3], creg_c[3])\n",
    "circuit.measure(qreg_q[4], creg_c[4])"
   ]
  },
  {
   "cell_type": "markdown",
   "metadata": {},
   "source": [
    "Simulation of the cicuit"
   ]
  },
  {
   "cell_type": "code",
   "execution_count": null,
   "metadata": {},
   "outputs": [],
   "source": [
    "aer_sim = Aer.get_backend('aer_simulator')\n",
    "qobj = assemble(circuit)\n",
    "result = aer_sim.run(qobj).result()\n",
    "counts = result.get_counts()\n",
    "plot_histogram(counts)"
   ]
  },
  {
   "cell_type": "markdown",
   "metadata": {},
   "source": [
    "Visualization of the circuit"
   ]
  },
  {
   "cell_type": "code",
   "execution_count": 2,
   "metadata": {},
   "outputs": [
    {
     "data": {
      "application/vnd.jupyter.widget-view+json": {
       "model_id": "cd10324bc4964443bdddd314551415cc",
       "version_major": 2,
       "version_minor": 0
      },
      "text/plain": [
       "CircuitComposer(circuit=<qiskit.circuit.quantumcircuit.QuantumCircuit object at 0x7fb40ccc06a0>)"
      ]
     },
     "metadata": {},
     "output_type": "display_data"
    }
   ],
   "source": [
    "editor = CircuitComposer(circuit=circuit)\n",
    "editor"
   ]
  },
  {
   "cell_type": "code",
   "execution_count": null,
   "metadata": {},
   "outputs": [],
   "source": []
  }
 ],
 "metadata": {
  "kernelspec": {
   "display_name": "Qiskit v0.35.0 (ipykernel)",
   "language": "python",
   "name": "python3"
  },
  "language_info": {
   "codemirror_mode": {
    "name": "ipython",
    "version": 3
   },
   "file_extension": ".py",
   "mimetype": "text/x-python",
   "name": "python",
   "nbconvert_exporter": "python",
   "pygments_lexer": "ipython3",
   "version": "3.8.13"
  },
  "widgets": {
   "application/vnd.jupyter.widget-state+json": {
    "state": {},
    "version_major": 2,
    "version_minor": 0
   }
  }
 },
 "nbformat": 4,
 "nbformat_minor": 4
}
