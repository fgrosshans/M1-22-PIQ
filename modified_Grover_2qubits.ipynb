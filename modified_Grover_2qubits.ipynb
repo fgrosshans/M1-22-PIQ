{
 "cells": [
  {
   "cell_type": "code",
   "execution_count": 8,
   "metadata": {},
   "outputs": [
    {
     "name": "stderr",
     "output_type": "stream",
     "text": [
      "/tmp/ipykernel_423/4257331448.py:18: DeprecationWarning: The QuantumCircuit.cu1 method is deprecated as of 0.16.0. It will be removed no earlier than 3 months after the release date. You should use the QuantumCircuit.cp method instead, which acts identically.\n",
      "  circuit.cu1(pi, qreg_q[0], qreg_q[1])\n",
      "/tmp/ipykernel_423/4257331448.py:23: DeprecationWarning: The QuantumCircuit.cu1 method is deprecated as of 0.16.0. It will be removed no earlier than 3 months after the release date. You should use the QuantumCircuit.cp method instead, which acts identically.\n",
      "  circuit.cu1(pi, qreg_q[0], qreg_q[1])\n"
     ]
    },
    {
     "data": {
      "image/png": "[encoded data removed]",
      "text/plain": [
       "<Figure size 504x360 with 1 Axes>"
      ]
     },
     "execution_count": 8,
     "metadata": {},
     "output_type": "execute_result"
    }
   ],
   "source": [
    "from ibm_quantum_widgets import CircuitComposer\n",
    "from qiskit import IBMQ, Aer, assemble, transpile\n",
    "from qiskit import QuantumCircuit, ClassicalRegister, QuantumRegister\n",
    "from qiskit.providers.ibmq import least_busy\n",
    "\n",
    "# import basic plot tools\n",
    "from qiskit.visualization import plot_histogram\n",
    "from numpy import pi\n",
    "\n",
    "qreg_q = QuantumRegister(3, 'q')\n",
    "creg_c = ClassicalRegister(3, 'c')\n",
    "circuit = QuantumCircuit(qreg_q, creg_c)\n",
    "\n",
    "circuit.rx(pi/2, qreg_q[0])\n",
    "circuit.rx(pi/2, qreg_q[1])\n",
    "circuit.barrier(qreg_q[0], qreg_q[1])\n",
    "circuit.x(qreg_q[1])\n",
    "circuit.cu1(pi, qreg_q[0], qreg_q[1])\n",
    "circuit.x(qreg_q[1])\n",
    "circuit.barrier(qreg_q[0], qreg_q[1])\n",
    "circuit.rx(pi/2, qreg_q[0])\n",
    "circuit.rx(pi/2, qreg_q[1])\n",
    "circuit.cu1(pi, qreg_q[0], qreg_q[1])\n",
    "circuit.rx(-pi/2, qreg_q[0])\n",
    "circuit.rx(-pi/2, qreg_q[1])\n",
    "circuit.measure_all()\n",
    "\n",
    "\n",
    "aer_sim = Aer.get_backend('aer_simulator')\n",
    "qobj = assemble(circuit)\n",
    "result = aer_sim.run(qobj).result()\n",
    "counts = result.get_counts()\n",
    "plot_histogram(counts)\n",
    "\n"
   ]
  },
  {
   "cell_type": "code",
   "execution_count": 10,
   "metadata": {},
   "outputs": [
    {
     "name": "stderr",
     "output_type": "stream",
     "text": [
      "ibmqfactory.load_account:WARNING:2022-05-08 13:28:01,310: Credentials are already in use. The existing account in the session will be replaced.\n"
     ]
    },
    {
     "name": "stdout",
     "output_type": "stream",
     "text": [
      "Running on current least busy device:  ibmq_quito\n",
      "least busy backend:  ibmq_quito\n",
      "Job Status: job has successfully run\n"
     ]
    },
    {
     "data": {
      "image/png": "[encoded data removed]",
      "text/plain": [
       "<Figure size 504x360 with 1 Axes>"
      ]
     },
     "execution_count": 10,
     "metadata": {},
     "output_type": "execute_result"
    }
   ],
   "source": [
    "# Load IBM Q account and get the least busy backend device\n",
    "provider = IBMQ.load_account()\n",
    "provider = IBMQ.get_provider(\"ibm-q\")\n",
    "device = least_busy(provider.backends(filters=lambda x: x.configuration().n_qubits >= 5 and \n",
    "                                   not x.configuration().simulator and x.status().operational==True))\n",
    "print(\"Running on current least busy device: \", device)\n",
    "\n",
    "backend = least_busy(provider.backends(filters=lambda x: x.configuration().n_qubits >= 5 and \n",
    "                                   not x.configuration().simulator and x.status().operational==True))\n",
    "print(\"least busy backend: \", backend)\n",
    "\n",
    "# Run our circuit on the least busy backend. Monitor the execution of the job in the queue\n",
    "from qiskit.tools.monitor import job_monitor\n",
    "transpiled_grover_circuit = transpile(circuit, device, optimization_level=3)\n",
    "job = device.run(transpiled_grover_circuit)\n",
    "job_monitor(job, interval=2)\n",
    "\n",
    "# Get the results from the computation\n",
    "results = job.result()\n",
    "answer = results.get_counts(circuit)\n",
    "plot_histogram(answer)"
   ]
  },
  {
   "cell_type": "code",
   "execution_count": null,
   "metadata": {},
   "outputs": [],
   "source": []
  }
 ],
 "metadata": {
  "kernelspec": {
   "display_name": "Qiskit v0.35.0 (ipykernel)",
   "language": "python",
   "name": "python3"
  },
  "language_info": {
   "codemirror_mode": {
    "name": "ipython",
    "version": 3
   },
   "file_extension": ".py",
   "mimetype": "text/x-python",
   "name": "python",
   "nbconvert_exporter": "python",
   "pygments_lexer": "ipython3",
   "version": "3.8.13"
  },
  "widgets": {
   "application/vnd.jupyter.widget-state+json": {
    "state": {
     "416ca45bf79a438aaa176631902b8fa6": {
      "model_module": "@jupyter-widgets/base",
      "model_module_version": "1.2.0",
      "model_name": "LayoutModel",
      "state": {}
     },
     "507fa0b608e740009275641d6ce2f83a": {
      "model_module": "ibm-q-lab-widgets-extension",
      "model_module_version": "^2.0.11",
      "model_name": "CircuitComposerModel",
      "state": {
       "_model_module_version": "^2.0.11",
       "_view_module_version": "^2.0.11",
       "circuit": "\"OPENQASM 2.0;\\ninclude \\\"qelib1.inc\\\";\\n\\nqreg q[3];\\ncreg c[3];\\n\\nrx(pi/2) q[0];\\nrx(pi/2) q[1];\\nbarrier q[0],q[1];\\nx q[1];\\ncu1(pi) q[0],q[1];\\nx q[1];\\nbarrier q[0],q[1];\\nrx(pi/2) q[0];\\nrx(pi/2) q[1];\\ncu1(pi) q[0],q[1];\\nrx(-pi/2) q[0];\\nrx(-pi/2) q[1];\"",
       "editable": true,
       "layout": "IPY_MODEL_54cabfaa8cda44228eec9b53bf568b13",
       "qiskit_code_cell_index": -1
      }
     },
     "54cabfaa8cda44228eec9b53bf568b13": {
      "model_module": "@jupyter-widgets/base",
      "model_module_version": "1.2.0",
      "model_name": "LayoutModel",
      "state": {}
     },
     "6407e680d99a4c92b8379d01fc7623e4": {
      "model_module": "@jupyter-widgets/base",
      "model_module_version": "1.2.0",
      "model_name": "LayoutModel",
      "state": {}
     },
     "7d7a90a371d042ee99f0333d3b3dce47": {
      "model_module": "@jupyter-widgets/base",
      "model_module_version": "1.2.0",
      "model_name": "LayoutModel",
      "state": {}
     },
     "8715d62e574f47bd9848b8a23b7f51c7": {
      "model_module": "ibm-q-lab-widgets-extension",
      "model_module_version": "^2.0.11",
      "model_name": "CircuitComposerModel",
      "state": {
       "_model_module_version": "^2.0.11",
       "_view_module_version": "^2.0.11",
       "circuit": "\"OPENQASM 2.0;\\ninclude \\\"qelib1.inc\\\";\\n\\nqreg q[3];\\ncreg c[3];\\n\\nrx(pi/2) q[0];\\nrx(pi/2) q[1];\\nbarrier q[0],q[1];\\nx q[1];\\ncu1(pi) q[0],q[1];\\nx q[1];\\nbarrier q[0],q[1];\\nrx(pi/2) q[0];\\nrx(pi/2) q[1];\\ncu1(pi) q[0],q[1];\\nrx(-pi/2) q[0];\\nrx(-pi/2) q[1];\"",
       "editable": true,
       "layout": "IPY_MODEL_416ca45bf79a438aaa176631902b8fa6",
       "qiskit_code_cell_index": -1
      }
     },
     "b2f66e2e77134ba1a8f5f9bc552a1f5c": {
      "model_module": "ibm-q-lab-widgets-extension",
      "model_module_version": "^2.0.11",
      "model_name": "CircuitComposerModel",
      "state": {
       "_model_module_version": "^2.0.11",
       "_view_module_version": "^2.0.11",
       "circuit": "\"OPENQASM 2.0;\\ninclude \\\"qelib1.inc\\\";\\n\\nqreg q[3];\\ncreg c[3];\\n\\nrx(pi/2) q[0];\\nrx(pi/2) q[1];\\nbarrier q[0],q[1];\\nx q[1];\\ncu1(pi) q[0],q[1];\\nx q[1];\\nbarrier q[0],q[1];\\nrx(pi/2) q[0];\\nrx(pi/2) q[1];\\ncu1(pi) q[0],q[1];\\nrx(-pi/2) q[0];\\nrx(-pi/2) q[1];\"",
       "editable": true,
       "layout": "IPY_MODEL_6407e680d99a4c92b8379d01fc7623e4",
       "qiskit_code_cell_index": -1
      }
     },
     "e1f765b904df42a0951f9233e29f2f4e": {
      "model_module": "ibm-q-lab-widgets-extension",
      "model_module_version": "^2.0.11",
      "model_name": "CircuitComposerModel",
      "state": {
       "_model_module_version": "^2.0.11",
       "_view_module_version": "^2.0.11",
       "circuit": "\"OPENQASM 2.0;\\ninclude \\\"qelib1.inc\\\";\\n\\nqreg q[3];\\ncreg c[3];\\n\\nrx(pi/2) q[0];\\nrx(pi/2) q[1];\\nbarrier q[0],q[1];\\nx q[1];\\ncu1(pi) q[0],q[1];\\nx q[1];\\nbarrier q[0],q[1];\\nrx(pi/2) q[0];\\nrx(pi/2) q[1];\\ncu1(pi) q[0],q[1];\\nrx(-pi/2) q[0];\\nrx(-pi/2) q[1];\"",
       "editable": true,
       "layout": "IPY_MODEL_7d7a90a371d042ee99f0333d3b3dce47",
       "qiskit_code_cell_index": -1
      }
     }
    },
    "version_major": 2,
    "version_minor": 0
   }
  }
 },
 "nbformat": 4,
 "nbformat_minor": 4
}
