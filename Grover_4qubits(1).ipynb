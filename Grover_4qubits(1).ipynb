{
 "cells": [
  {
   "cell_type": "code",
   "execution_count": 7,
   "id": "8f13f5b6-0816-440e-ad5b-cb35e6719ff3",
   "metadata": {},
   "outputs": [
    {
     "data": {
      "image/png": "[encoded data removed]",
      "text/plain": [
       "<Figure size 504x360 with 1 Axes>"
      ]
     },
     "execution_count": 7,
     "metadata": {},
     "output_type": "execute_result"
    }
   ],
   "source": [
    "from ibm_quantum_widgets import CircuitComposer\n",
    "from qiskit import QuantumRegister, ClassicalRegister, QuantumCircuit\n",
    "from numpy import pi\n",
    "from qiskit import IBMQ, Aer, assemble, transpile\n",
    "from qiskit.visualization import plot_histogram\n",
    "\n",
    "# definition of my registers\n",
    "qreg_q = QuantumRegister(6, 'q')\n",
    "creg_c = ClassicalRegister(4, 'c')\n",
    "circuit = QuantumCircuit(qreg_q, creg_c)\n",
    "\n",
    "# initialisation of my states\n",
    "circuit.h(qreg_q[0])\n",
    "circuit.h(qreg_q[1])\n",
    "circuit.h(qreg_q[3])\n",
    "circuit.h(qreg_q[5])\n",
    "\n",
    "circuit.barrier(qreg_q[0], qreg_q[1], qreg_q[2], qreg_q[3], qreg_q[4], qreg_q[5])\n",
    "\n",
    "#############################################################################################\n",
    "#                                      ITERATION 1                                         #\n",
    "#############################################################################################\n",
    "\n",
    "# Oracle iteration 1\n",
    "circuit.ccx(qreg_q[0], qreg_q[1], qreg_q[2])\n",
    "circuit.ccx(qreg_q[2], qreg_q[3], qreg_q[4])\n",
    "circuit.cz(qreg_q[4], qreg_q[5])\n",
    "circuit.ccx(qreg_q[2], qreg_q[3], qreg_q[4])\n",
    "circuit.ccx(qreg_q[0], qreg_q[1], qreg_q[2])\n",
    "# barrier\n",
    "circuit.barrier(qreg_q[0], qreg_q[1], qreg_q[2], qreg_q[3], qreg_q[4], qreg_q[5])\n",
    "# diffuser iteration 1\n",
    "circuit.h(qreg_q[0])\n",
    "circuit.h(qreg_q[1])\n",
    "circuit.h(qreg_q[3])\n",
    "circuit.h(qreg_q[5])\n",
    "circuit.x(qreg_q[0])\n",
    "circuit.x(qreg_q[1])\n",
    "circuit.x(qreg_q[3])\n",
    "circuit.x(qreg_q[5])\n",
    "circuit.ccx(qreg_q[0], qreg_q[1], qreg_q[2])\n",
    "circuit.ccx(qreg_q[2], qreg_q[3], qreg_q[4])\n",
    "circuit.cz(qreg_q[4], qreg_q[5])\n",
    "circuit.ccx(qreg_q[2], qreg_q[3], qreg_q[4])\n",
    "circuit.ccx(qreg_q[0], qreg_q[1], qreg_q[2])\n",
    "circuit.x(qreg_q[0])\n",
    "circuit.x(qreg_q[1])\n",
    "circuit.x(qreg_q[3])\n",
    "circuit.x(qreg_q[5])\n",
    "circuit.h(qreg_q[0])\n",
    "circuit.h(qreg_q[1])\n",
    "circuit.h(qreg_q[3])\n",
    "circuit.h(qreg_q[5])\n",
    "# barrier\n",
    "circuit.barrier(qreg_q[0], qreg_q[1], qreg_q[2], qreg_q[3], qreg_q[4], qreg_q[5])\n",
    "circuit.barrier(qreg_q[0], qreg_q[1], qreg_q[2], qreg_q[3], qreg_q[4], qreg_q[5])\n",
    "\n",
    "#############################################################################################\n",
    "#                                      ITERATION 2                                         #\n",
    "#############################################################################################\n",
    "\n",
    "# Oracle iteration 2\n",
    "circuit.ccx(qreg_q[0], qreg_q[1], qreg_q[2])\n",
    "circuit.ccx(qreg_q[2], qreg_q[3], qreg_q[4])\n",
    "circuit.cz(qreg_q[4], qreg_q[5])\n",
    "circuit.ccx(qreg_q[2], qreg_q[3], qreg_q[4])\n",
    "circuit.ccx(qreg_q[0], qreg_q[1], qreg_q[2])\n",
    "# barrier\n",
    "circuit.barrier(qreg_q[0], qreg_q[1], qreg_q[2], qreg_q[3], qreg_q[4], qreg_q[5])\n",
    "# diffuser iteration 2\n",
    "circuit.h(qreg_q[0])\n",
    "circuit.h(qreg_q[1])\n",
    "circuit.h(qreg_q[3])\n",
    "circuit.h(qreg_q[5])\n",
    "circuit.x(qreg_q[0])\n",
    "circuit.x(qreg_q[1])\n",
    "circuit.x(qreg_q[3])\n",
    "circuit.x(qreg_q[5])\n",
    "circuit.ccx(qreg_q[0], qreg_q[1], qreg_q[2])\n",
    "circuit.ccx(qreg_q[2], qreg_q[3], qreg_q[4])\n",
    "circuit.cz(qreg_q[4], qreg_q[5])\n",
    "circuit.ccx(qreg_q[2], qreg_q[3], qreg_q[4])\n",
    "circuit.ccx(qreg_q[0], qreg_q[1], qreg_q[2])\n",
    "circuit.x(qreg_q[0])\n",
    "circuit.x(qreg_q[1])\n",
    "circuit.x(qreg_q[3])\n",
    "circuit.x(qreg_q[5])\n",
    "circuit.h(qreg_q[0])\n",
    "circuit.h(qreg_q[1])\n",
    "circuit.h(qreg_q[3])\n",
    "circuit.h(qreg_q[5])\n",
    "# barrier\n",
    "circuit.barrier(qreg_q[0], qreg_q[1], qreg_q[2], qreg_q[3], qreg_q[4], qreg_q[5])\n",
    "circuit.barrier(qreg_q[0], qreg_q[1], qreg_q[2], qreg_q[3], qreg_q[4], qreg_q[5])\n",
    "\n",
    "#############################################################################################\n",
    "#                                      ITERATION 3                                         #\n",
    "#############################################################################################\n",
    "\n",
    "# Oracle iteration 3\n",
    "circuit.ccx(qreg_q[0], qreg_q[1], qreg_q[2])\n",
    "circuit.ccx(qreg_q[2], qreg_q[3], qreg_q[4])\n",
    "circuit.cz(qreg_q[4], qreg_q[5])\n",
    "circuit.ccx(qreg_q[2], qreg_q[3], qreg_q[4])\n",
    "circuit.ccx(qreg_q[0], qreg_q[1], qreg_q[2])\n",
    "# barrier\n",
    "circuit.barrier(qreg_q[0], qreg_q[1], qreg_q[2], qreg_q[3], qreg_q[4], qreg_q[5])\n",
    "# diffuser iteration 3\n",
    "circuit.h(qreg_q[0])\n",
    "circuit.h(qreg_q[1])\n",
    "circuit.h(qreg_q[3])\n",
    "circuit.h(qreg_q[5])\n",
    "circuit.x(qreg_q[0])\n",
    "circuit.x(qreg_q[1])\n",
    "circuit.x(qreg_q[3])\n",
    "circuit.x(qreg_q[5])\n",
    "circuit.ccx(qreg_q[0], qreg_q[1], qreg_q[2])\n",
    "circuit.ccx(qreg_q[2], qreg_q[3], qreg_q[4])\n",
    "circuit.cz(qreg_q[4], qreg_q[5])\n",
    "circuit.ccx(qreg_q[2], qreg_q[3], qreg_q[4])\n",
    "circuit.ccx(qreg_q[0], qreg_q[1], qreg_q[2])\n",
    "circuit.x(qreg_q[0])\n",
    "circuit.x(qreg_q[1])\n",
    "circuit.x(qreg_q[3])\n",
    "circuit.x(qreg_q[5])\n",
    "circuit.h(qreg_q[0])\n",
    "circuit.h(qreg_q[1])\n",
    "circuit.h(qreg_q[3])\n",
    "circuit.h(qreg_q[5])\n",
    "# barrier\n",
    "circuit.barrier(qreg_q[0], qreg_q[1], qreg_q[2], qreg_q[3], qreg_q[4], qreg_q[5])\n",
    "circuit.barrier(qreg_q[0], qreg_q[1], qreg_q[2], qreg_q[3], qreg_q[4], qreg_q[5])\n",
    "\n",
    "# measurements\n",
    "\n",
    "circuit.measure(qreg_q[0], creg_c[0])\n",
    "circuit.measure(qreg_q[1], creg_c[1])\n",
    "circuit.measure(qreg_q[3], creg_c[2])\n",
    "circuit.measure(qreg_q[5], creg_c[3])\n",
    "\n",
    "\n",
    "editor = CircuitComposer(circuit=circuit)\n",
    "editor\n",
    "\n",
    "aer_sim = Aer.get_backend('aer_simulator')\n",
    "qobj = assemble(circuit)\n",
    "result = aer_sim.run(qobj).result()\n",
    "counts = result.get_counts()\n",
    "plot_histogram(counts)"
   ]
  },
  {
   "cell_type": "code",
   "execution_count": null,
   "id": "d374fa5a-5d01-4386-ac0f-ff9fa4b55662",
   "metadata": {},
   "outputs": [],
   "source": []
  }
 ],
 "metadata": {
  "kernelspec": {
   "display_name": "Qiskit v0.35.0 (ipykernel)",
   "language": "python",
   "name": "python3"
  },
  "language_info": {
   "codemirror_mode": {
    "name": "ipython",
    "version": 3
   },
   "file_extension": ".py",
   "mimetype": "text/x-python",
   "name": "python",
   "nbconvert_exporter": "python",
   "pygments_lexer": "ipython3",
   "version": "3.8.13"
  },
  "widgets": {
   "application/vnd.jupyter.widget-state+json": {
    "state": {
     "0161d8bb9cfb4385a5398f3f77678a82": {
      "model_module": "ibm-q-lab-widgets-extension",
      "model_module_version": "^2.0.11",
      "model_name": "CircuitComposerModel",
      "state": {
       "_model_module_version": "^2.0.11",
       "_view_module_version": "^2.0.11",
       "circuit": "\"OPENQASM 2.0;\\ninclude \\\"qelib1.inc\\\";\\n\\nqreg q[6];\\ncreg c[4];\\n\\nh q[0];\\nh q[1];\\nh q[3];\\nh q[5];\\nbarrier q[0],q[1],q[2],q[3],q[4],q[5];\\nccx q[0],q[1],q[2];\\nccx q[2],q[3],q[4];\\ncz q[4],q[5];\\nccx q[2],q[3],q[4];\\nccx q[0],q[1],q[2];\\nbarrier q[0],q[1],q[2],q[3],q[4],q[5];\\nh q[0];\\nh q[1];\\nh q[3];\\nh q[5];\\nx q[0];\\nx q[1];\\nx q[3];\\nx q[5];\\nccx q[0],q[1],q[2];\\nccx q[2],q[3],q[4];\\ncz q[4],q[5];\\nccx q[2],q[3],q[4];\\nccx q[0],q[1],q[2];\\nx q[0];\\nx q[1];\\nx q[3];\\nx q[5];\\nh q[0];\\nh q[1];\\nh q[3];\\nh q[5];\\nbarrier q[0],q[1],q[2],q[3],q[4],q[5];\\nbarrier q[0],q[1],q[2],q[3],q[4],q[5];\\nccx q[0],q[1],q[2];\\nccx q[2],q[3],q[4];\\ncz q[4],q[5];\\nccx q[2],q[3],q[4];\\nccx q[0],q[1],q[2];\\nbarrier q[0],q[1],q[2],q[3],q[4],q[5];\\nh q[0];\\nh q[1];\\nh q[3];\\nh q[5];\\nx q[0];\\nx q[1];\\nx q[3];\\nx q[5];\\nccx q[0],q[1],q[2];\\nccx q[2],q[3],q[4];\\ncz q[4],q[5];\\nccx q[2],q[3],q[4];\\nccx q[0],q[1],q[2];\\nx q[0];\\nx q[1];\\nx q[3];\\nx q[5];\\nh q[0];\\nh q[1];\\nh q[3];\\nh q[5];\\nbarrier q[0],q[1],q[2],q[3],q[4],q[5];\\nbarrier q[0],q[1],q[2],q[3],q[4],q[5];\\nccx q[0],q[1],q[2];\\nccx q[2],q[3],q[4];\\ncz q[4],q[5];\\nccx q[2],q[3],q[4];\\nccx q[0],q[1],q[2];\\nbarrier q[0],q[1],q[2],q[3],q[4],q[5];\\nh q[0];\\nh q[1];\\nh q[3];\\nh q[5];\\nx q[0];\\nx q[1];\\nx q[3];\\nx q[5];\\nccx q[0],q[1],q[2];\\nccx q[2],q[3],q[4];\\ncz q[4],q[5];\\nccx q[2],q[3],q[4];\\nccx q[0],q[1],q[2];\\nx q[0];\\nx q[1];\\nx q[3];\\nx q[5];\\nh q[0];\\nh q[1];\\nh q[3];\\nh q[5];\\nbarrier q[0],q[1],q[2],q[3],q[4],q[5];\\nbarrier q[0],q[1],q[2],q[3],q[4],q[5];\\nmeasure q[0] -> c[0];\\nmeasure q[1] -> c[1];\\nmeasure q[3] -> c[2];\\nmeasure q[5] -> c[3];\"",
       "editable": true,
       "layout": "IPY_MODEL_2e894ab66d6b436b8190b54f3addc721",
       "qiskit_code_cell_index": -1
      }
     },
     "216e3f8278d7480290617d6d9286db1d": {
      "model_module": "ibm-q-lab-widgets-extension",
      "model_module_version": "^2.0.11",
      "model_name": "CircuitComposerModel",
      "state": {
       "_model_module_version": "^2.0.11",
       "_view_module_version": "^2.0.11",
       "circuit": "\"OPENQASM 2.0;\\ninclude \\\"qelib1.inc\\\";\\n\\nqreg q[6];\\ncreg c[4];\\n\\nh q[0];\\nh q[1];\\nh q[3];\\nh q[5];\\nbarrier q[0],q[1],q[2],q[3],q[4],q[5];\\nccx q[0],q[1],q[2];\\nccx q[2],q[3],q[4];\\ncz q[4],q[5];\\nccx q[2],q[3],q[4];\\nccx q[0],q[1],q[2];\\nbarrier q[0],q[1],q[2],q[3],q[4],q[5];\\nh q[0];\\nx q[0];\\nh q[1];\\nx q[1];\\nccx q[0],q[1],q[2];\\nh q[3];\\nx q[3];\\nccx q[2],q[3],q[4];\\nh q[5];\\nx q[5];\\ncz q[4],q[5];\\nccx q[2],q[3],q[4];\\nccx q[0],q[1],q[2];\\nx q[0];\\nh q[0];\\nx q[1];\\nh q[1];\\nx q[3];\\nh q[3];\\nx q[5];\\nh q[5];\\nbarrier q[0],q[1],q[2],q[3],q[4],q[5];\\nbarrier q[0],q[1],q[2],q[3],q[4],q[5];\\nccx q[0],q[1],q[2];\\nccx q[2],q[3],q[4];\\ncz q[4],q[5];\\nbarrier q[0],q[1],q[2],q[3],q[4],q[5];\\nh q[0];\\nx q[0];\\nh q[1];\\nx q[1];\\nccx q[0],q[1],q[2];\\nh q[3];\\nx q[3];\\nccx q[2],q[3],q[4];\\nh q[5];\\nx q[5];\\ncz q[4],q[5];\\nccx q[2],q[3],q[4];\\nccx q[0],q[1],q[2];\\nx q[0];\\nh q[0];\\nx q[1];\\nh q[1];\\nx q[3];\\nh q[3];\\nx q[5];\\nh q[5];\\nbarrier q[0],q[1],q[2],q[3],q[4],q[5];\\nbarrier q[0],q[1],q[2],q[3],q[4],q[5];\\nccx q[0],q[1],q[2];\\nccx q[2],q[3],q[4];\\ncz q[4],q[5];\\nbarrier q[0],q[1],q[2],q[3],q[4],q[5];\\nh q[0];\\nx q[0];\\nh q[1];\\nx q[1];\\nccx q[0],q[1],q[2];\\nh q[3];\\nx q[3];\\nccx q[2],q[3],q[4];\\nh q[5];\\nx q[5];\\ncz q[4],q[5];\\nccx q[2],q[3],q[4];\\nccx q[0],q[1],q[2];\\nx q[0];\\nh q[0];\\nx q[1];\\nh q[1];\\nx q[3];\\nh q[3];\\nx q[5];\\nh q[5];\\nbarrier q[0],q[1],q[2],q[3],q[4],q[5];\\nbarrier q[0],q[1],q[2],q[3],q[4],q[5];\\nmeasure q[0] -> c[0];\\nmeasure q[1] -> c[1];\\nmeasure q[3] -> c[2];\\nmeasure q[5] -> c[3];\"",
       "editable": true,
       "layout": "IPY_MODEL_d52afe2f58b947e3990517cb3e056f39",
       "qiskit_code_cell_index": -1
      }
     },
     "26b327b4302144f38b1e2cc2fb2cedae": {
      "model_module": "ibm-q-lab-widgets-extension",
      "model_module_version": "^2.0.11",
      "model_name": "CircuitComposerModel",
      "state": {
       "_model_module_version": "^2.0.11",
       "_view_module_version": "^2.0.11",
       "circuit": "\"OPENQASM 2.0;\\ninclude \\\"qelib1.inc\\\";\\n\\nqreg q[6];\\ncreg c[4];\\n\\nh q[0];\\nh q[1];\\nh q[3];\\nh q[5];\\nbarrier q[0],q[1],q[2],q[3],q[4],q[5];\\nccx q[0],q[1],q[2];\\nccx q[2],q[3],q[4];\\ncz q[4],q[5];\\nbarrier q[0],q[1],q[2],q[3],q[4],q[5];\\nh q[0];\\nh q[1];\\nh q[3];\\nh q[5];\\nx q[0];\\nx q[1];\\nx q[3];\\nx q[5];\\nccx q[0],q[1],q[2];\\nccx q[2],q[3],q[4];\\ncz q[4],q[5];\\nx q[0];\\nx q[1];\\nx q[3];\\nx q[5];\\nh q[0];\\nh q[1];\\nh q[3];\\nh q[5];\\nbarrier q[0],q[1],q[2],q[3],q[4],q[5];\\nbarrier q[0],q[1],q[2],q[3],q[4],q[5];\\nccx q[0],q[1],q[2];\\nccx q[2],q[3],q[4];\\ncz q[4],q[5];\\nbarrier q[0],q[1],q[2],q[3],q[4],q[5];\\nh q[0];\\nh q[1];\\nh q[3];\\nh q[5];\\nx q[0];\\nx q[1];\\nx q[3];\\nx q[5];\\nccx q[0],q[1],q[2];\\nccx q[2],q[3],q[4];\\ncz q[4],q[5];\\nx q[0];\\nx q[1];\\nx q[3];\\nx q[5];\\nh q[0];\\nh q[1];\\nh q[3];\\nh q[5];\\nbarrier q[0],q[1],q[2],q[3],q[4],q[5];\\nbarrier q[0],q[1],q[2],q[3],q[4],q[5];\\nccx q[0],q[1],q[2];\\nccx q[2],q[3],q[4];\\ncz q[4],q[5];\\nbarrier q[0],q[1],q[2],q[3],q[4],q[5];\\nh q[0];\\nh q[1];\\nh q[3];\\nh q[5];\\nx q[0];\\nx q[1];\\nx q[3];\\nx q[5];\\nccx q[0],q[1],q[2];\\nccx q[2],q[3],q[4];\\ncz q[4],q[5];\\nx q[0];\\nx q[1];\\nx q[3];\\nx q[5];\\nh q[0];\\nh q[1];\\nh q[3];\\nh q[5];\\nbarrier q[0],q[1],q[2],q[3],q[4],q[5];\\nbarrier q[0],q[1],q[2],q[3],q[4],q[5];\\nmeasure q[0] -> c[0];\\nmeasure q[1] -> c[1];\\nmeasure q[3] -> c[2];\\nmeasure q[5] -> c[3];\"",
       "editable": true,
       "layout": "IPY_MODEL_7442a20724064dbbb2890fcb663d9dfb",
       "qiskit_code_cell_index": -1
      }
     },
     "2e894ab66d6b436b8190b54f3addc721": {
      "model_module": "@jupyter-widgets/base",
      "model_module_version": "1.2.0",
      "model_name": "LayoutModel",
      "state": {}
     },
     "430e2bc2876748aeb36f9fa70cc7c67b": {
      "model_module": "@jupyter-widgets/base",
      "model_module_version": "1.2.0",
      "model_name": "LayoutModel",
      "state": {}
     },
     "7442a20724064dbbb2890fcb663d9dfb": {
      "model_module": "@jupyter-widgets/base",
      "model_module_version": "1.2.0",
      "model_name": "LayoutModel",
      "state": {}
     },
     "9274fb250d0c41c092a5093465c7a5ff": {
      "model_module": "ibm-q-lab-widgets-extension",
      "model_module_version": "^2.0.11",
      "model_name": "CircuitComposerModel",
      "state": {
       "_model_module_version": "^2.0.11",
       "_view_module_version": "^2.0.11",
       "circuit": "\"OPENQASM 2.0;\\ninclude \\\"qelib1.inc\\\";\\n\\nqreg q[6];\\ncreg c[4];\\n\\nh q[0];\\nh q[1];\\nh q[3];\\nh q[5];\\nbarrier q[0],q[1],q[2],q[3],q[4],q[5];\\nccx q[0],q[1],q[2];\\nccx q[2],q[3],q[4];\\ncz q[4],q[5];\\nccx q[2],q[3],q[4];\\nccx q[0],q[1],q[2];\\nbarrier q[0],q[1],q[2],q[3],q[4],q[5];\\nh q[0];\\nh q[1];\\nh q[3];\\nh q[5];\\nx q[0];\\nx q[1];\\nx q[3];\\nx q[5];\\nccx q[0],q[1],q[2];\\nccx q[2],q[3],q[4];\\ncz q[4],q[5];\\nccx q[2],q[3],q[4];\\nccx q[0],q[1],q[2];\\nx q[0];\\nx q[1];\\nx q[3];\\nx q[5];\\nh q[0];\\nh q[1];\\nh q[3];\\nh q[5];\\nbarrier q[0],q[1],q[2],q[3],q[4],q[5];\\nbarrier q[0],q[1],q[2],q[3],q[4],q[5];\\nccx q[0],q[1],q[2];\\nccx q[2],q[3],q[4];\\ncz q[4],q[5];\\nccx q[2],q[3],q[4];\\nccx q[0],q[1],q[2];\\nbarrier q[0],q[1],q[2],q[3],q[4],q[5];\\nh q[0];\\nh q[1];\\nh q[3];\\nh q[5];\\nx q[0];\\nx q[1];\\nx q[3];\\nx q[5];\\nccx q[0],q[1],q[2];\\nccx q[2],q[3],q[4];\\ncz q[4],q[5];\\nccx q[2],q[3],q[4];\\nccx q[0],q[1],q[2];\\nx q[0];\\nx q[1];\\nx q[3];\\nx q[5];\\nh q[0];\\nh q[1];\\nh q[3];\\nh q[5];\\nbarrier q[0],q[1],q[2],q[3],q[4],q[5];\\nbarrier q[0],q[1],q[2],q[3],q[4],q[5];\\nccx q[0],q[1],q[2];\\nccx q[2],q[3],q[4];\\ncz q[4],q[5];\\nccx q[2],q[3],q[4];\\nccx q[0],q[1],q[2];\\nbarrier q[0],q[1],q[2],q[3],q[4],q[5];\\nh q[0];\\nh q[1];\\nh q[3];\\nh q[5];\\nx q[0];\\nx q[1];\\nx q[3];\\nx q[5];\\nccx q[0],q[1],q[2];\\nccx q[2],q[3],q[4];\\ncz q[4],q[5];\\nccx q[2],q[3],q[4];\\nccx q[0],q[1],q[2];\\nx q[0];\\nx q[1];\\nx q[3];\\nx q[5];\\nh q[0];\\nh q[1];\\nh q[3];\\nh q[5];\\nbarrier q[0],q[1],q[2],q[3],q[4],q[5];\\nbarrier q[0],q[1],q[2],q[3],q[4],q[5];\\nmeasure q[0] -> c[0];\\nmeasure q[1] -> c[1];\\nmeasure q[3] -> c[2];\\nmeasure q[5] -> c[3];\"",
       "editable": true,
       "layout": "IPY_MODEL_430e2bc2876748aeb36f9fa70cc7c67b",
       "qiskit_code_cell_index": -1
      }
     },
     "d52afe2f58b947e3990517cb3e056f39": {
      "model_module": "@jupyter-widgets/base",
      "model_module_version": "1.2.0",
      "model_name": "LayoutModel",
      "state": {}
     },
     "f8dbed20b0ac451088083e858326efff": {
      "model_module": "ibm-q-lab-widgets-extension",
      "model_module_version": "^2.0.11",
      "model_name": "CircuitComposerModel",
      "state": {
       "_model_module_version": "^2.0.11",
       "_view_module_version": "^2.0.11",
       "circuit": "\"OPENQASM 2.0;\\ninclude \\\"qelib1.inc\\\";\\n\\nqreg q[6];\\ncreg c[4];\\n\\nh q[0];\\nh q[1];\\nh q[3];\\nh q[5];\\nbarrier q[0],q[1],q[2],q[3],q[4],q[5];\\nccx q[0],q[1],q[2];\\nccx q[2],q[3],q[4];\\ncz q[4],q[5];\\nccx q[2],q[3],q[4];\\nccx q[0],q[1],q[2];\\nbarrier q[0],q[1],q[2],q[3],q[4],q[5];\\nh q[0];\\nh q[1];\\nh q[3];\\nh q[5];\\nx q[0];\\nx q[1];\\nx q[3];\\nx q[5];\\nccx q[0],q[1],q[2];\\nccx q[2],q[3],q[4];\\ncz q[4],q[5];\\nccx q[2],q[3],q[4];\\nccx q[0],q[1],q[2];\\nx q[0];\\nx q[1];\\nx q[3];\\nx q[5];\\nh q[0];\\nh q[1];\\nh q[3];\\nh q[5];\\nbarrier q[0],q[1],q[2],q[3],q[4],q[5];\\nbarrier q[0],q[1],q[2],q[3],q[4],q[5];\\nccx q[0],q[1],q[2];\\nccx q[2],q[3],q[4];\\ncz q[4],q[5];\\nccx q[2],q[3],q[4];\\nccx q[0],q[1],q[2];\\nbarrier q[0],q[1],q[2],q[3],q[4],q[5];\\nh q[0];\\nh q[1];\\nh q[3];\\nh q[5];\\nx q[0];\\nx q[1];\\nx q[3];\\nx q[5];\\nccx q[0],q[1],q[2];\\nccx q[2],q[3],q[4];\\ncz q[4],q[5];\\nccx q[2],q[3],q[4];\\nccx q[0],q[1],q[2];\\nx q[0];\\nx q[1];\\nx q[3];\\nx q[5];\\nh q[0];\\nh q[1];\\nh q[3];\\nh q[5];\\nbarrier q[0],q[1],q[2],q[3],q[4],q[5];\\nbarrier q[0],q[1],q[2],q[3],q[4],q[5];\\nccx q[0],q[1],q[2];\\nccx q[2],q[3],q[4];\\ncz q[4],q[5];\\nccx q[2],q[3],q[4];\\nccx q[0],q[1],q[2];\\nbarrier q[0],q[1],q[2],q[3],q[4],q[5];\\nh q[0];\\nh q[1];\\nh q[3];\\nh q[5];\\nx q[0];\\nx q[1];\\nx q[3];\\nx q[5];\\nccx q[0],q[1],q[2];\\nccx q[2],q[3],q[4];\\ncz q[4],q[5];\\nccx q[2],q[3],q[4];\\nccx q[0],q[1],q[2];\\nx q[0];\\nx q[1];\\nx q[3];\\nx q[5];\\nh q[0];\\nh q[1];\\nh q[3];\\nh q[5];\\nbarrier q[0],q[1],q[2],q[3],q[4],q[5];\\nbarrier q[0],q[1],q[2],q[3],q[4],q[5];\\nmeasure q[0] -> c[0];\\nmeasure q[1] -> c[1];\\nmeasure q[3] -> c[2];\\nmeasure q[5] -> c[3];\"",
       "editable": true,
       "layout": "IPY_MODEL_fd80f794e6db492a9a419fd0fe1a07eb",
       "qiskit_code_cell_index": -1
      }
     },
     "fd80f794e6db492a9a419fd0fe1a07eb": {
      "model_module": "@jupyter-widgets/base",
      "model_module_version": "1.2.0",
      "model_name": "LayoutModel",
      "state": {}
     }
    },
    "version_major": 2,
    "version_minor": 0
   }
  }
 },
 "nbformat": 4,
 "nbformat_minor": 5
}
