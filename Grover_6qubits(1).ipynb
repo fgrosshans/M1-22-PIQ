{
 "cells": [
  {
   "cell_type": "markdown",
   "id": "8fdff334-b170-489e-bfe2-1b3b715f1342",
   "metadata": {},
   "source": [
    "Implementation of Grover's algorithm on a 6-qubits space with the V-Oracle model\n"
   ]
  },
  {
   "cell_type": "markdown",
   "id": "d0964c08-8331-4ee7-ac0b-28d1ab3864f4",
   "metadata": {},
   "source": [
    "Importation of required packages\n"
   ]
  },
  {
   "cell_type": "code",
   "execution_count": null,
   "id": "bde5a824-3350-4c8f-b792-99c5eb5b267a",
   "metadata": {},
   "outputs": [],
   "source": [
    "from ibm_quantum_widgets import CircuitComposer\n",
    "from qiskit import QuantumRegister, ClassicalRegister, QuantumCircuit\n",
    "from numpy import pi\n",
    "from qiskit import IBMQ, Aer, assemble, transpile\n",
    "from qiskit.visualization import plot_histogram"
   ]
  },
  {
   "cell_type": "markdown",
   "id": "d195028e-862a-4402-b154-c3d7f53eab3c",
   "metadata": {},
   "source": [
    "Definition of my registers"
   ]
  },
  {
   "cell_type": "code",
   "execution_count": null,
   "id": "afa2b574-cadc-4899-8bb8-afd43a6043d2",
   "metadata": {},
   "outputs": [],
   "source": [
    "qreg_q = QuantumRegister(10, 'q')\n",
    "creg_c = ClassicalRegister(5, 'c')\n",
    "circuit = QuantumCircuit(qreg_q, creg_c)"
   ]
  },
  {
   "cell_type": "markdown",
   "id": "5e3e8d6f-7305-4e8f-8205-5aecb6cfc012",
   "metadata": {},
   "source": [
    "Initialisation of my states"
   ]
  },
  {
   "cell_type": "code",
   "execution_count": null,
   "id": "fd6f45f9-24a3-4e56-841e-7eb58b543700",
   "metadata": {},
   "outputs": [],
   "source": [
    "circuit.h(qreg_q[0])\n",
    "circuit.h(qreg_q[1])\n",
    "circuit.h(qreg_q[2])\n",
    "circuit.h(qreg_q[3])\n",
    "circuit.h(qreg_q[4])\n",
    "circuit.h(qreg_q[5])"
   ]
  },
  {
   "cell_type": "markdown",
   "id": "a2485535-55a7-4514-90b7-5611eaca1558",
   "metadata": {},
   "source": [
    "Quantum barrier"
   ]
  },
  {
   "cell_type": "code",
   "execution_count": null,
   "id": "53ceeb9c-44e6-4d80-8ddb-a4fe04a35544",
   "metadata": {},
   "outputs": [],
   "source": [
    "circuit.barrier(qreg_q[0], qreg_q[1], qreg_q[2], qreg_q[3], qreg_q[4], qreg_q[5], qreg_q[6], qreg_q[7], qreg_q[8], qreg_q[9])"
   ]
  },
  {
   "cell_type": "markdown",
   "id": "11968abe-ed8e-4f19-ab8b-ca4a8c3b875d",
   "metadata": {},
   "source": [
    "Iteration 1"
   ]
  },
  {
   "cell_type": "markdown",
   "id": "b1f219de-df6d-4efd-bfca-91a160502156",
   "metadata": {},
   "source": [
    "V-oracle model"
   ]
  },
  {
   "cell_type": "code",
   "execution_count": null,
   "id": "fac1ac7c-e133-4a8b-9869-1ac66b686d6f",
   "metadata": {},
   "outputs": [],
   "source": [
    "circuit.ccx(qreg_q[0], qreg_q[1], qreg_q[6])\n",
    "circuit.ccx(qreg_q[2], qreg_q[3], qreg_q[7])\n",
    "circuit.ccx(qreg_q[6], qreg_q[7], qreg_q[8])\n",
    "circuit.ccx(qreg_q[4], qreg_q[8], qreg_q[9])\n",
    "circuit.cz(qreg_q[9], qreg_q[4])\n",
    "circuit.ccx(qreg_q[4], qreg_q[8], qreg_q[9])\n",
    "circuit.ccx(qreg_q[6], qreg_q[7], qreg_q[8])\n",
    "circuit.ccx(qreg_q[2], qreg_q[3], qreg_q[7])\n",
    "circuit.ccx(qreg_q[0], qreg_q[1], qreg_q[6])"
   ]
  },
  {
   "cell_type": "markdown",
   "id": "66caa8f4-9eb8-4a6e-807c-25d8d1dbbc24",
   "metadata": {},
   "source": [
    "Quantum barrier"
   ]
  },
  {
   "cell_type": "code",
   "execution_count": null,
   "id": "36f3e8e7-4834-4890-a7d5-104dbc92310a",
   "metadata": {},
   "outputs": [],
   "source": [
    "circuit.barrier(qreg_q[0], qreg_q[1], qreg_q[2], qreg_q[3], qreg_q[4], qreg_q[5], qreg_q[6], qreg_q[7], qreg_q[8], qreg_q[9])"
   ]
  },
  {
   "cell_type": "markdown",
   "id": "21f873c5-93a9-4896-a9f1-463e04096f67",
   "metadata": {},
   "source": [
    "Diffuser"
   ]
  },
  {
   "cell_type": "code",
   "execution_count": null,
   "id": "1b6c13a9-411d-416e-b9fa-0c04127347e0",
   "metadata": {},
   "outputs": [],
   "source": [
    "circuit.h(qreg_q[0])\n",
    "circuit.h(qreg_q[1])\n",
    "circuit.h(qreg_q[2])\n",
    "circuit.h(qreg_q[3])\n",
    "circuit.h(qreg_q[4])\n",
    "circuit.h(qreg_q[5])\n",
    "circuit.x(qreg_q[0])\n",
    "circuit.x(qreg_q[1])\n",
    "circuit.x(qreg_q[2])\n",
    "circuit.x(qreg_q[3])\n",
    "circuit.x(qreg_q[4])\n",
    "circuit.x(qreg_q[5])\n",
    "circuit.ccx(qreg_q[0], qreg_q[1], qreg_q[6])\n",
    "circuit.ccx(qreg_q[2], qreg_q[3], qreg_q[7])\n",
    "circuit.ccx(qreg_q[6], qreg_q[7], qreg_q[8])\n",
    "circuit.ccx(qreg_q[4], qreg_q[8], qreg_q[9])\n",
    "circuit.cz(qreg_q[9], qreg_q[4])\n",
    "circuit.ccx(qreg_q[4], qreg_q[8], qreg_q[9])\n",
    "circuit.ccx(qreg_q[6], qreg_q[7], qreg_q[8])\n",
    "circuit.ccx(qreg_q[2], qreg_q[3], qreg_q[7])\n",
    "circuit.ccx(qreg_q[0], qreg_q[1], qreg_q[6])\n",
    "circuit.x(qreg_q[0])\n",
    "circuit.x(qreg_q[1])\n",
    "circuit.x(qreg_q[2])\n",
    "circuit.x(qreg_q[3])\n",
    "circuit.x(qreg_q[4])\n",
    "circuit.x(qreg_q[5])\n",
    "circuit.h(qreg_q[0])\n",
    "circuit.h(qreg_q[1])\n",
    "circuit.h(qreg_q[2])\n",
    "circuit.h(qreg_q[3])\n",
    "circuit.h(qreg_q[4])\n",
    "circuit.h(qreg_q[5])"
   ]
  },
  {
   "cell_type": "markdown",
   "id": "4d87771b-0434-48c3-a7c4-2bec038c050a",
   "metadata": {},
   "source": [
    "Quantum barrier"
   ]
  },
  {
   "cell_type": "code",
   "execution_count": null,
   "id": "a32287f4-3728-4e5e-93bb-d9a62fb1661b",
   "metadata": {},
   "outputs": [],
   "source": [
    "circuit.barrier(qreg_q[0], qreg_q[1], qreg_q[2], qreg_q[3], qreg_q[4], qreg_q[5], qreg_q[6], qreg_q[7], qreg_q[8], qreg_q[9])\n",
    "circuit.barrier(qreg_q[0], qreg_q[1], qreg_q[2], qreg_q[3], qreg_q[4], qreg_q[5], qreg_q[6], qreg_q[7], qreg_q[8], qreg_q[9])"
   ]
  },
  {
   "cell_type": "markdown",
   "id": "bba389e3-fe5e-469a-9849-04f25cdf4f50",
   "metadata": {},
   "source": [
    "Iteration 2"
   ]
  },
  {
   "cell_type": "markdown",
   "id": "f78abef6-a4fe-4e4a-a9f9-fc7bda8f00ec",
   "metadata": {},
   "source": [
    "# oracle iteration 2\n",
    "circuit.ccx(qreg_q[0], qreg_q[1], qreg_q[6])\n",
    "circuit.ccx(qreg_q[2], qreg_q[3], qreg_q[7])\n",
    "circuit.ccx(qreg_q[6], qreg_q[7], qreg_q[8])\n",
    "circuit.ccx(qreg_q[4], qreg_q[8], qreg_q[9])\n",
    "circuit.cz(qreg_q[9], qreg_q[4])\n",
    "circuit.ccx(qreg_q[4], qreg_q[8], qreg_q[9])\n",
    "circuit.ccx(qreg_q[6], qreg_q[7], qreg_q[8])\n",
    "circuit.ccx(qreg_q[2], qreg_q[3], qreg_q[7])\n",
    "circuit.ccx(qreg_q[0], qreg_q[1], qreg_q[6])\n",
    "# barier\n",
    "circuit.barrier(qreg_q[0], qreg_q[1], qreg_q[2], qreg_q[3], qreg_q[4], qreg_q[5], qreg_q[6], qreg_q[7], qreg_q[8], qreg_q[9])\n",
    "# diffuser iteration 2\n",
    "circuit.h(qreg_q[0])\n",
    "circuit.h(qreg_q[1])\n",
    "circuit.h(qreg_q[2])\n",
    "circuit.h(qreg_q[3])\n",
    "circuit.h(qreg_q[4])\n",
    "circuit.h(qreg_q[5])\n",
    "circuit.x(qreg_q[0])\n",
    "circuit.x(qreg_q[1])\n",
    "circuit.x(qreg_q[2])\n",
    "circuit.x(qreg_q[3])\n",
    "circuit.x(qreg_q[4])\n",
    "circuit.x(qreg_q[5])\n",
    "circuit.ccx(qreg_q[0], qreg_q[1], qreg_q[6])\n",
    "circuit.ccx(qreg_q[2], qreg_q[3], qreg_q[7])\n",
    "circuit.ccx(qreg_q[6], qreg_q[7], qreg_q[8])\n",
    "circuit.ccx(qreg_q[4], qreg_q[8], qreg_q[9])\n",
    "circuit.cz(qreg_q[9], qreg_q[4])\n",
    "circuit.ccx(qreg_q[4], qreg_q[8], qreg_q[9])\n",
    "circuit.ccx(qreg_q[6], qreg_q[7], qreg_q[8])\n",
    "circuit.ccx(qreg_q[2], qreg_q[3], qreg_q[7])\n",
    "circuit.ccx(qreg_q[0], qreg_q[1], qreg_q[6])\n",
    "circuit.x(qreg_q[0])\n",
    "circuit.x(qreg_q[1])\n",
    "circuit.x(qreg_q[2])\n",
    "circuit.x(qreg_q[3])\n",
    "circuit.x(qreg_q[4])\n",
    "circuit.x(qreg_q[5])\n",
    "circuit.h(qreg_q[0])\n",
    "circuit.h(qreg_q[1])\n",
    "circuit.h(qreg_q[2])\n",
    "circuit.h(qreg_q[3])\n",
    "circuit.h(qreg_q[4])\n",
    "circuit.h(qreg_q[5])\n",
    "#barier *2\n",
    "circuit.barrier(qreg_q[0], qreg_q[1], qreg_q[2], qreg_q[3], qreg_q[4], qreg_q[5], qreg_q[6], qreg_q[7], qreg_q[8], qreg_q[9])\n",
    "circuit.barrier(qreg_q[0], qreg_q[1], qreg_q[2], qreg_q[3], qreg_q[4], qreg_q[5], qreg_q[6], qreg_q[7], qreg_q[8], qreg_q[9])\n"
   ]
  },
  {
   "cell_type": "markdown",
   "id": "db4fad66-2cf0-4619-bd53-f3a8575651c6",
   "metadata": {},
   "source": [
    "Iteration 3"
   ]
  },
  {
   "cell_type": "code",
   "execution_count": null,
   "id": "7afb4c73-7e03-409c-80df-f305113becbe",
   "metadata": {},
   "outputs": [],
   "source": [
    "# oracle iteration 3\n",
    "circuit.ccx(qreg_q[0], qreg_q[1], qreg_q[6])\n",
    "circuit.ccx(qreg_q[2], qreg_q[3], qreg_q[7])\n",
    "circuit.ccx(qreg_q[6], qreg_q[7], qreg_q[8])\n",
    "circuit.ccx(qreg_q[4], qreg_q[8], qreg_q[9])\n",
    "circuit.cz(qreg_q[9], qreg_q[4])\n",
    "circuit.ccx(qreg_q[4], qreg_q[8], qreg_q[9])\n",
    "circuit.ccx(qreg_q[6], qreg_q[7], qreg_q[8])\n",
    "circuit.ccx(qreg_q[2], qreg_q[3], qreg_q[7])\n",
    "circuit.ccx(qreg_q[0], qreg_q[1], qreg_q[6])\n",
    "# barier\n",
    "circuit.barrier(qreg_q[0], qreg_q[1], qreg_q[2], qreg_q[3], qreg_q[4], qreg_q[5], qreg_q[6], qreg_q[7], qreg_q[8], qreg_q[9])\n",
    "# diffuser iteration 3\n",
    "circuit.h(qreg_q[0])\n",
    "circuit.h(qreg_q[1])\n",
    "circuit.h(qreg_q[2])\n",
    "circuit.h(qreg_q[3])\n",
    "circuit.h(qreg_q[4])\n",
    "circuit.h(qreg_q[5])\n",
    "circuit.x(qreg_q[0])\n",
    "circuit.x(qreg_q[1])\n",
    "circuit.x(qreg_q[2])\n",
    "circuit.x(qreg_q[3])\n",
    "circuit.x(qreg_q[4])\n",
    "circuit.x(qreg_q[5])\n",
    "circuit.ccx(qreg_q[0], qreg_q[1], qreg_q[6])\n",
    "circuit.ccx(qreg_q[2], qreg_q[3], qreg_q[7])\n",
    "circuit.ccx(qreg_q[6], qreg_q[7], qreg_q[8])\n",
    "circuit.ccx(qreg_q[4], qreg_q[8], qreg_q[9])\n",
    "circuit.cz(qreg_q[9], qreg_q[4])\n",
    "circuit.ccx(qreg_q[4], qreg_q[8], qreg_q[9])\n",
    "circuit.ccx(qreg_q[6], qreg_q[7], qreg_q[8])\n",
    "circuit.ccx(qreg_q[2], qreg_q[3], qreg_q[7])\n",
    "circuit.ccx(qreg_q[0], qreg_q[1], qreg_q[6])\n",
    "circuit.x(qreg_q[0])\n",
    "circuit.x(qreg_q[1])\n",
    "circuit.x(qreg_q[2])\n",
    "circuit.x(qreg_q[3])\n",
    "circuit.x(qreg_q[4])\n",
    "circuit.x(qreg_q[5])\n",
    "circuit.h(qreg_q[0])\n",
    "circuit.h(qreg_q[1])\n",
    "circuit.h(qreg_q[2])\n",
    "circuit.h(qreg_q[3])\n",
    "circuit.h(qreg_q[4])\n",
    "circuit.h(qreg_q[5])\n",
    "#barier *2\n",
    "circuit.barrier(qreg_q[0], qreg_q[1], qreg_q[2], qreg_q[3], qreg_q[4], qreg_q[5], qreg_q[6], qreg_q[7], qreg_q[8], qreg_q[9])\n",
    "circuit.barrier(qreg_q[0], qreg_q[1], qreg_q[2], qreg_q[3], qreg_q[4], qreg_q[5], qreg_q[6], qreg_q[7], qreg_q[8], qreg_q[9])\n"
   ]
  },
  {
   "cell_type": "markdown",
   "id": "efd0c723-5e6f-4138-8020-1b0cb52ccf7a",
   "metadata": {},
   "source": [
    "Iteration 4"
   ]
  },
  {
   "cell_type": "code",
   "execution_count": null,
   "id": "930b224c-9b1e-49ac-baec-393c909ff5e7",
   "metadata": {},
   "outputs": [],
   "source": [
    "# oracle iteration 4\n",
    "circuit.ccx(qreg_q[0], qreg_q[1], qreg_q[6])\n",
    "circuit.ccx(qreg_q[2], qreg_q[3], qreg_q[7])\n",
    "circuit.ccx(qreg_q[6], qreg_q[7], qreg_q[8])\n",
    "circuit.ccx(qreg_q[4], qreg_q[8], qreg_q[9])\n",
    "circuit.cz(qreg_q[9], qreg_q[4])\n",
    "circuit.ccx(qreg_q[4], qreg_q[8], qreg_q[9])\n",
    "circuit.ccx(qreg_q[6], qreg_q[7], qreg_q[8])\n",
    "circuit.ccx(qreg_q[2], qreg_q[3], qreg_q[7])\n",
    "circuit.ccx(qreg_q[0], qreg_q[1], qreg_q[6])\n",
    "# barier\n",
    "circuit.barrier(qreg_q[0], qreg_q[1], qreg_q[2], qreg_q[3], qreg_q[4], qreg_q[5], qreg_q[6], qreg_q[7], qreg_q[8], qreg_q[9])\n",
    "# diffuser iteration 4\n",
    "circuit.h(qreg_q[0])\n",
    "circuit.h(qreg_q[1])\n",
    "circuit.h(qreg_q[2])\n",
    "circuit.h(qreg_q[3])\n",
    "circuit.h(qreg_q[4])\n",
    "circuit.h(qreg_q[5])\n",
    "circuit.x(qreg_q[0])\n",
    "circuit.x(qreg_q[1])\n",
    "circuit.x(qreg_q[2])\n",
    "circuit.x(qreg_q[3])\n",
    "circuit.x(qreg_q[4])\n",
    "circuit.x(qreg_q[5])\n",
    "circuit.ccx(qreg_q[0], qreg_q[1], qreg_q[6])\n",
    "circuit.ccx(qreg_q[2], qreg_q[3], qreg_q[7])\n",
    "circuit.ccx(qreg_q[6], qreg_q[7], qreg_q[8])\n",
    "circuit.ccx(qreg_q[4], qreg_q[8], qreg_q[9])\n",
    "circuit.cz(qreg_q[9], qreg_q[4])\n",
    "circuit.ccx(qreg_q[4], qreg_q[8], qreg_q[9])\n",
    "circuit.ccx(qreg_q[6], qreg_q[7], qreg_q[8])\n",
    "circuit.ccx(qreg_q[2], qreg_q[3], qreg_q[7])\n",
    "circuit.ccx(qreg_q[0], qreg_q[1], qreg_q[6])\n",
    "circuit.x(qreg_q[0])\n",
    "circuit.x(qreg_q[1])\n",
    "circuit.x(qreg_q[2])\n",
    "circuit.x(qreg_q[3])\n",
    "circuit.x(qreg_q[4])\n",
    "circuit.x(qreg_q[5])\n",
    "circuit.h(qreg_q[0])\n",
    "circuit.h(qreg_q[1])\n",
    "circuit.h(qreg_q[2])\n",
    "circuit.h(qreg_q[3])\n",
    "circuit.h(qreg_q[4])\n",
    "circuit.h(qreg_q[5])\n",
    "#barier *2\n",
    "circuit.barrier(qreg_q[0], qreg_q[1], qreg_q[2], qreg_q[3], qreg_q[4], qreg_q[5], qreg_q[6], qreg_q[7], qreg_q[8], qreg_q[9])\n",
    "circuit.barrier(qreg_q[0], qreg_q[1], qreg_q[2], qreg_q[3], qreg_q[4], qreg_q[5], qreg_q[6], qreg_q[7], qreg_q[8], qreg_q[9])"
   ]
  },
  {
   "cell_type": "markdown",
   "id": "ba65f6da-2d6c-40fa-bbfe-788069ab167b",
   "metadata": {},
   "source": [
    "Iteration 5"
   ]
  },
  {
   "cell_type": "code",
   "execution_count": null,
   "id": "ca861141-b5e3-4ec5-a8ec-077dd51ba07f",
   "metadata": {},
   "outputs": [],
   "source": [
    "#############################################################################################\n",
    "#                                      ITERATION 5                                         #\n",
    "#############################################################################################\n",
    "\n",
    "# oracle iteration 1\n",
    "circuit.ccx(qreg_q[0], qreg_q[1], qreg_q[6])\n",
    "circuit.ccx(qreg_q[2], qreg_q[3], qreg_q[7])\n",
    "circuit.ccx(qreg_q[6], qreg_q[7], qreg_q[8])\n",
    "circuit.ccx(qreg_q[4], qreg_q[8], qreg_q[9])\n",
    "circuit.cz(qreg_q[9], qreg_q[4])\n",
    "circuit.ccx(qreg_q[4], qreg_q[8], qreg_q[9])\n",
    "circuit.ccx(qreg_q[6], qreg_q[7], qreg_q[8])\n",
    "circuit.ccx(qreg_q[2], qreg_q[3], qreg_q[7])\n",
    "circuit.ccx(qreg_q[0], qreg_q[1], qreg_q[6])\n",
    "# barier\n",
    "circuit.barrier(qreg_q[0], qreg_q[1], qreg_q[2], qreg_q[3], qreg_q[4], qreg_q[5], qreg_q[6], qreg_q[7], qreg_q[8], qreg_q[9])\n",
    "# diffuser iteration 1\n",
    "circuit.h(qreg_q[0])\n",
    "circuit.h(qreg_q[1])\n",
    "circuit.h(qreg_q[2])\n",
    "circuit.h(qreg_q[3])\n",
    "circuit.h(qreg_q[4])\n",
    "circuit.h(qreg_q[5])\n",
    "circuit.x(qreg_q[0])\n",
    "circuit.x(qreg_q[1])\n",
    "circuit.x(qreg_q[2])\n",
    "circuit.x(qreg_q[3])\n",
    "circuit.x(qreg_q[4])\n",
    "circuit.x(qreg_q[5])\n",
    "circuit.ccx(qreg_q[0], qreg_q[1], qreg_q[6])\n",
    "circuit.ccx(qreg_q[2], qreg_q[3], qreg_q[7])\n",
    "circuit.ccx(qreg_q[6], qreg_q[7], qreg_q[8])\n",
    "circuit.ccx(qreg_q[4], qreg_q[8], qreg_q[9])\n",
    "circuit.cz(qreg_q[9], qreg_q[4])\n",
    "circuit.ccx(qreg_q[4], qreg_q[8], qreg_q[9])\n",
    "circuit.ccx(qreg_q[6], qreg_q[7], qreg_q[8])\n",
    "circuit.ccx(qreg_q[2], qreg_q[3], qreg_q[7])\n",
    "circuit.ccx(qreg_q[0], qreg_q[1], qreg_q[6])\n",
    "circuit.x(qreg_q[0])\n",
    "circuit.x(qreg_q[1])\n",
    "circuit.x(qreg_q[2])\n",
    "circuit.x(qreg_q[3])\n",
    "circuit.x(qreg_q[4])\n",
    "circuit.x(qreg_q[5])\n",
    "circuit.h(qreg_q[0])\n",
    "circuit.h(qreg_q[1])\n",
    "circuit.h(qreg_q[2])\n",
    "circuit.h(qreg_q[3])\n",
    "circuit.h(qreg_q[4])\n",
    "circuit.h(qreg_q[5])\n",
    "#barier *2\n",
    "circuit.barrier(qreg_q[0], qreg_q[1], qreg_q[2], qreg_q[3], qreg_q[4], qreg_q[5], qreg_q[6], qreg_q[7], qreg_q[8], qreg_q[9])\n",
    "circuit.barrier(qreg_q[0], qreg_q[1], qreg_q[2], qreg_q[3], qreg_q[4], qreg_q[5], qreg_q[6], qreg_q[7], qreg_q[8], qreg_q[9])\n",
    "\n"
   ]
  },
  {
   "cell_type": "markdown",
   "id": "4cfb1190-5a69-43e9-88f4-6816897d23ca",
   "metadata": {},
   "source": [
    "Measurements"
   ]
  },
  {
   "cell_type": "code",
   "execution_count": null,
   "id": "efcbbfba-481b-4ef4-b1f0-0a4a0b2be1b8",
   "metadata": {},
   "outputs": [],
   "source": [
    "circuit.measure(qreg_q[0], creg_c[0])\n",
    "circuit.measure(qreg_q[1], creg_c[1])\n",
    "circuit.measure(qreg_q[2], creg_c[2])\n",
    "circuit.measure(qreg_q[3], creg_c[3])\n",
    "circuit.measure(qreg_q[4], creg_c[4])"
   ]
  },
  {
   "cell_type": "markdown",
   "id": "32899f84-ed21-4019-acea-838f2acf1805",
   "metadata": {},
   "source": [
    "Simulation of the circuit"
   ]
  },
  {
   "cell_type": "code",
   "execution_count": null,
   "id": "62cc278e-e645-4f0a-a645-666f7d8ded3a",
   "metadata": {},
   "outputs": [],
   "source": [
    "aer_sim = Aer.get_backend('aer_simulator')\n",
    "qobj = assemble(circuit)\n",
    "result = aer_sim.run(qobj).result()\n",
    "counts = result.get_counts()\n",
    "plot_histogram(counts)"
   ]
  },
  {
   "cell_type": "markdown",
   "id": "0136f232-ee98-4f09-9311-2c23a894ce93",
   "metadata": {},
   "source": [
    "Visualization of the circuit"
   ]
  },
  {
   "cell_type": "code",
   "execution_count": null,
   "id": "e7474577-0a45-4702-9b3f-308b5ee08ac5",
   "metadata": {},
   "outputs": [],
   "source": [
    "editor = CircuitComposer(circuit=circuit)\n",
    "editor\n"
   ]
  }
 ],
 "metadata": {
  "kernelspec": {
   "display_name": "Qiskit v0.35.0 (ipykernel)",
   "language": "python",
   "name": "python3"
  },
  "language_info": {
   "codemirror_mode": {
    "name": "ipython",
    "version": 3
   },
   "file_extension": ".py",
   "mimetype": "text/x-python",
   "name": "python",
   "nbconvert_exporter": "python",
   "pygments_lexer": "ipython3",
   "version": "3.8.13"
  },
  "widgets": {
   "application/vnd.jupyter.widget-state+json": {
    "state": {},
    "version_major": 2,
    "version_minor": 0
   }
  }
 },
 "nbformat": 4,
 "nbformat_minor": 5
}
