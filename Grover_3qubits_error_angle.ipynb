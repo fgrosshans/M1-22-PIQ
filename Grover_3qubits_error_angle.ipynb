{
 "cells": [
  {
   "cell_type": "code",
   "execution_count": 3,
   "metadata": {},
   "outputs": [
    {
     "name": "stderr",
     "output_type": "stream",
     "text": [
      "<frozen importlib._bootstrap>:219: RuntimeWarning: scipy._lib.messagestream.MessageStream size changed, may indicate binary incompatibility. Expected 56 from C header, got 64 from PyObject\n"
     ]
    },
    {
     "data": {
      "image/png": "[encoded data removed]",
      "text/plain": [
       "<Figure size 504x360 with 1 Axes>"
      ]
     },
     "execution_count": 3,
     "metadata": {},
     "output_type": "execute_result"
    }
   ],
   "source": [
    "# This code is being generated automatically by the IBM Quantum Circuit Composer widget.\n",
    "# It changes in every update of the widget, so any modifications done in this cell will be lost.\n",
    "# State: synchronized\n",
    "from ibm_quantum_widgets import CircuitComposer\n",
    "from qiskit import QuantumRegister, ClassicalRegister, QuantumCircuit\n",
    "from numpy import pi\n",
    "from qiskit import IBMQ, Aer, assemble, transpile\n",
    "from qiskit.visualization import plot_histogram\n",
    "\n",
    "\n",
    "qreg_q = QuantumRegister(3, 'q')\n",
    "creg_c = ClassicalRegister(3, 'c')\n",
    "creg_meas = ClassicalRegister(3, 'meas')\n",
    "circuit = QuantumCircuit(qreg_q, creg_c, creg_meas)\n",
    "\n",
    "#initialisation\n",
    "circuit.h(qreg_q[0])\n",
    "circuit.h(qreg_q[1])\n",
    "circuit.h(qreg_q[2])\n",
    "#Oracle\n",
    "circuit.cz(qreg_q[2], qreg_q[0])\n",
    "circuit.cz(qreg_q[1], qreg_q[0])\n",
    "circuit.barrier(qreg_q[0], qreg_q[1], qreg_q[2])\n",
    "# error \n",
    "circuit.rx(pi/8, qreg_q[0]) \n",
    "# diffuser\n",
    "circuit.h(qreg_q[2])\n",
    "circuit.h(qreg_q[0])\n",
    "circuit.h(qreg_q[1])\n",
    "circuit.x(qreg_q[2])\n",
    "circuit.x(qreg_q[0])\n",
    "circuit.x(qreg_q[1])\n",
    "circuit.ccx(qreg_q[0], qreg_q[1], qreg_q[2])\n",
    "circuit.x(qreg_q[0])\n",
    "circuit.x(qreg_q[1])\n",
    "circuit.x(qreg_q[2])\n",
    "circuit.h(qreg_q[2])\n",
    "circuit.h(qreg_q[0])\n",
    "circuit.h(qreg_q[1])\n",
    "circuit.barrier(qreg_q[0], qreg_q[1], qreg_q[2])\n",
    "#measurement\n",
    "circuit.measure(qreg_q[0], creg_meas[0])\n",
    "circuit.measure(qreg_q[1], creg_meas[1])\n",
    "circuit.measure(qreg_q[2], creg_meas[2])\n",
    "# drawing the circuit\n",
    "editor = CircuitComposer(circuit=circuit)\n",
    "editor\n",
    "# simulation\n",
    "aer_sim = Aer.get_backend('aer_simulator')\n",
    "transpiled_grover_circuit = transpile(circuit, aer_sim)\n",
    "qobj = assemble(transpiled_grover_circuit)\n",
    "results = aer_sim.run(qobj).result()\n",
    "counts = results.get_counts()\n",
    "plot_histogram(counts)"
   ]
  },
  {
   "cell_type": "code",
   "execution_count": null,
   "metadata": {},
   "outputs": [],
   "source": []
  },
  {
   "cell_type": "code",
   "execution_count": null,
   "metadata": {},
   "outputs": [],
   "source": []
  },
  {
   "cell_type": "code",
   "execution_count": null,
   "metadata": {},
   "outputs": [],
   "source": []
  }
 ],
 "metadata": {
  "kernelspec": {
   "display_name": "Qiskit v0.35.0 (ipykernel)",
   "language": "python",
   "name": "python3"
  },
  "language_info": {
   "codemirror_mode": {
    "name": "ipython",
    "version": 3
   },
   "file_extension": ".py",
   "mimetype": "text/x-python",
   "name": "python",
   "nbconvert_exporter": "python",
   "pygments_lexer": "ipython3",
   "version": "3.8.13"
  },
  "widgets": {
   "application/vnd.jupyter.widget-state+json": {
    "state": {
     "239a7fd9800b4044a641c8c6d89f54e5": {
      "model_module": "@jupyter-widgets/base",
      "model_module_version": "1.2.0",
      "model_name": "LayoutModel",
      "state": {}
     },
     "397cd71d5d514f65af2efe76a3f44e39": {
      "model_module": "@jupyter-widgets/base",
      "model_module_version": "1.2.0",
      "model_name": "LayoutModel",
      "state": {}
     },
     "53ef891ab5114a47a852b2227f58a231": {
      "model_module": "ibm-q-lab-widgets-extension",
      "model_module_version": "^2.0.11",
      "model_name": "CircuitComposerModel",
      "state": {
       "_model_module_version": "^2.0.11",
       "_view_module_version": "^2.0.11",
       "circuit": "\"OPENQASM 2.0;\\ninclude \\\"qelib1.inc\\\";\\n\\nqreg q[3];\\ncreg c[3];\\ncreg meas[3];\\n\\nh q[0];\\nh q[1];\\nh q[2];\\ncz q[2],q[0];\\ncz q[1],q[0];\\nbarrier q[0],q[1],q[2];\\nrx(pi/8) q[0];\\nh q[2];\\nh q[0];\\nh q[1];\\nx q[2];\\nx q[0];\\nx q[1];\\nccx q[0],q[1],q[2];\\nx q[0];\\nx q[1];\\nx q[2];\\nh q[2];\\nh q[0];\\nh q[1];\\nbarrier q[0],q[1],q[2];\\nmeasure q[0] -> meas[0];\\nmeasure q[1] -> meas[1];\\nmeasure q[2] -> meas[2];\"",
       "editable": true,
       "layout": "IPY_MODEL_239a7fd9800b4044a641c8c6d89f54e5",
       "qiskit_code_cell_index": -1
      }
     },
     "73f8831e9aaf484a934de7660d154a95": {
      "model_module": "ibm-q-lab-widgets-extension",
      "model_module_version": "^2.0.11",
      "model_name": "CircuitComposerModel",
      "state": {
       "_model_module_version": "^2.0.11",
       "_view_module_version": "^2.0.11",
       "circuit": "\"OPENQASM 2.0;\\ninclude \\\"qelib1.inc\\\";\\n\\nqreg q[3];\\ncreg c[3];\\ncreg meas[3];\\n\\nh q[0];\\nh q[1];\\nh q[2];\\ncz q[2],q[0];\\ncz q[1],q[0];\\nbarrier q[0],q[1],q[2];\\nrx(pi/8) q[0];\\nh q[2];\\nh q[0];\\nh q[1];\\nx q[2];\\nx q[0];\\nx q[1];\\nccx q[0],q[1],q[2];\\nx q[0];\\nx q[1];\\nx q[2];\\nh q[2];\\nh q[0];\\nh q[1];\\nbarrier q[0],q[1],q[2];\\nmeasure q[0] -> meas[0];\\nmeasure q[1] -> meas[1];\\nmeasure q[2] -> meas[2];\"",
       "editable": true,
       "layout": "IPY_MODEL_397cd71d5d514f65af2efe76a3f44e39",
       "qiskit_code_cell_index": -1
      }
     }
    },
    "version_major": 2,
    "version_minor": 0
   }
  }
 },
 "nbformat": 4,
 "nbformat_minor": 4
}
