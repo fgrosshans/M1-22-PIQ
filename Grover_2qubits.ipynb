{
 "cells": [
  {
   "cell_type": "markdown",
   "id": "cb9ad168-3465-4b8e-b22b-055ea903df14",
   "metadata": {},
   "source": [
    "Implementation of Grover's algorithm on a 2-qubits space with qiskit textbook's guidance"
   ]
  },
  {
   "cell_type": "markdown",
   "id": "664562c0-57cc-4fc3-95c0-529d0f8a9b34",
   "metadata": {},
   "source": [
    "Importation of the required packages"
   ]
  },
  {
   "cell_type": "code",
   "execution_count": null,
   "id": "099e2923-0201-40ef-8a21-7f31514d5993",
   "metadata": {},
   "outputs": [],
   "source": [
    "import matplotlib.pyplot as plt\n",
    "import numpy as np\n",
    "from qiskit import IBMQ, Aer, assemble, transpile\n",
    "from qiskit import QuantumCircuit, ClassicalRegister, QuantumRegister\n",
    "from qiskit.providers.ibmq import least_busy\n",
    "from qiskit.visualization import plot_histogram\n"
   ]
  },
  {
   "cell_type": "markdown",
   "id": "9c85af9b-ddbb-45cb-be77-8a9cf3061d67",
   "metadata": {},
   "source": [
    "Implementing the circuit with the Grover class "
   ]
  },
  {
   "cell_type": "code",
   "execution_count": 3,
   "id": "dd7e9907-cd51-43a1-ad0a-05af046bb4d9",
   "metadata": {},
   "outputs": [
    {
     "name": "stderr",
     "output_type": "stream",
     "text": [
      "<frozen importlib._bootstrap>:219: RuntimeWarning: scipy._lib.messagestream.MessageStream size changed, may indicate binary incompatibility. Expected 56 from C header, got 64 from PyObject\n"
     ]
    },
    {
     "data": {
      "image/png": "[encoded data removed]",
      "text/plain": [
       "<Figure size 504x360 with 1 Axes>"
      ]
     },
     "execution_count": 3,
     "metadata": {},
     "output_type": "execute_result"
    }
   ],
   "source": [
    "n = 2\n",
    "grover_circuit = QuantumCircuit(n)\n",
    "\n",
    "def initialize_s(qc, qubits):\n",
    "    \"\"\"Apply a H-gate to 'qubits' in qc\"\"\"\n",
    "    for q in qubits:\n",
    "        qc.h(q)\n",
    "    return qc\n",
    "\n",
    "# Oracle\n",
    "grover_circuit = initialize_s(grover_circuit, [0,1])\n",
    "grover_circuit.cz(0,1)\n",
    "# Diffusion operator (U_s)\n",
    "grover_circuit.h([0,1])\n",
    "grover_circuit.z([0,1])\n",
    "grover_circuit.cz(0,1)\n",
    "grover_circuit.h([0,1])\n",
    "grover_circuit.draw()\n",
    "\n",
    "grover_circuit.measure_all()\n"
   ]
  },
  {
   "cell_type": "markdown",
   "id": "51b8b802-75e0-4610-acd9-747f7d667831",
   "metadata": {},
   "source": [
    "Simulation of the circuit"
   ]
  },
  {
   "cell_type": "code",
   "execution_count": null,
   "id": "2d708e3e-7491-41a9-b68a-a294ea2cf9cb",
   "metadata": {},
   "outputs": [],
   "source": [
    "aer_sim = Aer.get_backend('aer_simulator')\n",
    "qobj = assemble(grover_circuit)\n",
    "result = aer_sim.run(qobj).result()\n",
    "counts = result.get_counts()\n",
    "plot_histogram(counts)"
   ]
  },
  {
   "cell_type": "markdown",
   "id": "72a6fe93-66af-45c7-9e65-41e138fb17d6",
   "metadata": {},
   "source": [
    "Processing of the circuit on quantum hardware"
   ]
  },
  {
   "cell_type": "code",
   "execution_count": 4,
   "id": "9875b2b7-8b90-4349-b7da-259b3219de95",
   "metadata": {},
   "outputs": [
    {
     "name": "stdout",
     "output_type": "stream",
     "text": [
      "Running on current least busy device:  ibmq_belem\n",
      "Job Status: job has successfully run\n"
     ]
    },
    {
     "data": {
      "image/png": "[encoded data removed]",
      "text/plain": [
       "<Figure size 504x360 with 1 Axes>"
      ]
     },
     "execution_count": 4,
     "metadata": {},
     "output_type": "execute_result"
    }
   ],
   "source": [
    "# Load IBM Q account and get the least busy backend device\n",
    "provider = IBMQ.load_account()\n",
    "provider = IBMQ.get_provider(\"ibm-q\")\n",
    "device = least_busy(provider.backends(filters=lambda x: x.configuration().n_qubits >= 3 and \n",
    "                                   not x.configuration().simulator and x.status().operational==True))\n",
    "print(\"Running on current least busy device: \", device)\n",
    "\n",
    "# Run our circuit on the least busy backend. Monitor the execution of the job in the queue\n",
    "from qiskit.tools.monitor import job_monitor\n",
    "transpiled_grover_circuit = transpile(grover_circuit, device, optimization_level=3)\n",
    "job = device.run(transpiled_grover_circuit)\n",
    "job_monitor(job, interval=2)\n",
    "\n",
    "# Get the results from the computation\n",
    "results = job.result()\n",
    "answer = results.get_counts(grover_circuit)\n",
    "plot_histogram(answer)"
   ]
  },
  {
   "cell_type": "code",
   "execution_count": null,
   "id": "228427ba-3388-4bf9-82ab-99db462320da",
   "metadata": {},
   "outputs": [],
   "source": []
  }
 ],
 "metadata": {
  "kernelspec": {
   "display_name": "Qiskit v0.35.0 (ipykernel)",
   "language": "python",
   "name": "python3"
  },
  "language_info": {
   "codemirror_mode": {
    "name": "ipython",
    "version": 3
   },
   "file_extension": ".py",
   "mimetype": "text/x-python",
   "name": "python",
   "nbconvert_exporter": "python",
   "pygments_lexer": "ipython3",
   "version": "3.8.13"
  },
  "widgets": {
   "application/vnd.jupyter.widget-state+json": {
    "state": {},
    "version_major": 2,
    "version_minor": 0
   }
  }
 },
 "nbformat": 4,
 "nbformat_minor": 5
}
